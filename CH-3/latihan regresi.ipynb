{
 "cells": [
  {
   "cell_type": "code",
   "execution_count": 3,
   "id": "d174bfb5",
   "metadata": {},
   "outputs": [],
   "source": [
    "import pandas as pd\n",
    "import numpy as np\n",
    "import matplotlib.pyplot as plt\n",
    "import seaborn as sns\n",
    "from sklearn.model_selection import train_test_split"
   ]
  },
  {
   "cell_type": "code",
   "execution_count": 4,
   "id": "059af347",
   "metadata": {},
   "outputs": [],
   "source": [
    "df = pd.read_csv(\"botak.csv\")"
   ]
  },
  {
   "cell_type": "code",
   "execution_count": 5,
   "id": "2c274163",
   "metadata": {},
   "outputs": [
    {
     "data": {
      "text/html": [
       "<div>\n",
       "<style scoped>\n",
       "    .dataframe tbody tr th:only-of-type {\n",
       "        vertical-align: middle;\n",
       "    }\n",
       "\n",
       "    .dataframe tbody tr th {\n",
       "        vertical-align: top;\n",
       "    }\n",
       "\n",
       "    .dataframe thead th {\n",
       "        text-align: right;\n",
       "    }\n",
       "</style>\n",
       "<table border=\"1\" class=\"dataframe\">\n",
       "  <thead>\n",
       "    <tr style=\"text-align: right;\">\n",
       "      <th></th>\n",
       "      <th>umur</th>\n",
       "      <th>jenis_kelamin</th>\n",
       "      <th>pekerjaan</th>\n",
       "      <th>provinsi</th>\n",
       "      <th>gaji</th>\n",
       "      <th>is_menikah</th>\n",
       "      <th>is_keturunan</th>\n",
       "      <th>berat</th>\n",
       "      <th>tinggi</th>\n",
       "      <th>sampo</th>\n",
       "      <th>is_merokok</th>\n",
       "      <th>pendidikan</th>\n",
       "      <th>stress</th>\n",
       "      <th>botak_prob</th>\n",
       "    </tr>\n",
       "  </thead>\n",
       "  <tbody>\n",
       "    <tr>\n",
       "      <th>0</th>\n",
       "      <td>27.0</td>\n",
       "      <td>Perempuan</td>\n",
       "      <td>PNS</td>\n",
       "      <td>Bengkulu</td>\n",
       "      <td>7.957453e+06</td>\n",
       "      <td>1.0</td>\n",
       "      <td>0.0</td>\n",
       "      <td>54.315053</td>\n",
       "      <td>170.428542</td>\n",
       "      <td>Pantone</td>\n",
       "      <td>1.0</td>\n",
       "      <td>S1</td>\n",
       "      <td>5.0</td>\n",
       "      <td>0.605974</td>\n",
       "    </tr>\n",
       "    <tr>\n",
       "      <th>1</th>\n",
       "      <td>53.0</td>\n",
       "      <td>Perempuan</td>\n",
       "      <td>PNS</td>\n",
       "      <td>Bandung</td>\n",
       "      <td>7.633003e+06</td>\n",
       "      <td>1.0</td>\n",
       "      <td>0.0</td>\n",
       "      <td>72.873404</td>\n",
       "      <td>165.530097</td>\n",
       "      <td>Pantone</td>\n",
       "      <td>0.0</td>\n",
       "      <td>S1</td>\n",
       "      <td>7.0</td>\n",
       "      <td>0.532860</td>\n",
       "    </tr>\n",
       "    <tr>\n",
       "      <th>2</th>\n",
       "      <td>37.0</td>\n",
       "      <td>Perempuan</td>\n",
       "      <td>Pegawai swasta</td>\n",
       "      <td>Bandung</td>\n",
       "      <td>6.637625e+06</td>\n",
       "      <td>1.0</td>\n",
       "      <td>0.0</td>\n",
       "      <td>46.321533</td>\n",
       "      <td>154.599388</td>\n",
       "      <td>Moonsilk</td>\n",
       "      <td>0.0</td>\n",
       "      <td>S1</td>\n",
       "      <td>4.0</td>\n",
       "      <td>0.418442</td>\n",
       "    </tr>\n",
       "    <tr>\n",
       "      <th>3</th>\n",
       "      <td>36.0</td>\n",
       "      <td>Perempuan</td>\n",
       "      <td>Pengangguran</td>\n",
       "      <td>Palu</td>\n",
       "      <td>3.624871e+06</td>\n",
       "      <td>1.0</td>\n",
       "      <td>0.0</td>\n",
       "      <td>51.539781</td>\n",
       "      <td>167.340481</td>\n",
       "      <td>Deadbuoy</td>\n",
       "      <td>1.0</td>\n",
       "      <td>SD</td>\n",
       "      <td>9.0</td>\n",
       "      <td>0.804050</td>\n",
       "    </tr>\n",
       "    <tr>\n",
       "      <th>4</th>\n",
       "      <td>38.0</td>\n",
       "      <td>Laki-laki</td>\n",
       "      <td>Freelance</td>\n",
       "      <td>Palangkaraya</td>\n",
       "      <td>6.031808e+06</td>\n",
       "      <td>1.0</td>\n",
       "      <td>0.0</td>\n",
       "      <td>60.726909</td>\n",
       "      <td>165.514773</td>\n",
       "      <td>Merpati</td>\n",
       "      <td>1.0</td>\n",
       "      <td>S2</td>\n",
       "      <td>1.0</td>\n",
       "      <td>0.368371</td>\n",
       "    </tr>\n",
       "    <tr>\n",
       "      <th>5</th>\n",
       "      <td>55.0</td>\n",
       "      <td>Perempuan</td>\n",
       "      <td>PNS</td>\n",
       "      <td>Palangkaraya</td>\n",
       "      <td>9.213032e+06</td>\n",
       "      <td>1.0</td>\n",
       "      <td>1.0</td>\n",
       "      <td>54.287045</td>\n",
       "      <td>179.235145</td>\n",
       "      <td>Pantone</td>\n",
       "      <td>0.0</td>\n",
       "      <td>S1</td>\n",
       "      <td>1.0</td>\n",
       "      <td>0.732562</td>\n",
       "    </tr>\n",
       "    <tr>\n",
       "      <th>6</th>\n",
       "      <td>40.0</td>\n",
       "      <td>Perempuan</td>\n",
       "      <td>Freelance</td>\n",
       "      <td>Serang</td>\n",
       "      <td>1.068256e+07</td>\n",
       "      <td>1.0</td>\n",
       "      <td>0.0</td>\n",
       "      <td>54.824881</td>\n",
       "      <td>177.431122</td>\n",
       "      <td>Shoulder &amp; Head</td>\n",
       "      <td>0.0</td>\n",
       "      <td>S1</td>\n",
       "      <td>2.0</td>\n",
       "      <td>0.192604</td>\n",
       "    </tr>\n",
       "    <tr>\n",
       "      <th>7</th>\n",
       "      <td>47.0</td>\n",
       "      <td>Laki-laki</td>\n",
       "      <td>Pegawai swasta</td>\n",
       "      <td>Banda Aceh</td>\n",
       "      <td>4.508321e+06</td>\n",
       "      <td>1.0</td>\n",
       "      <td>0.0</td>\n",
       "      <td>74.795152</td>\n",
       "      <td>170.540938</td>\n",
       "      <td>Shoulder &amp; Head</td>\n",
       "      <td>1.0</td>\n",
       "      <td>S2</td>\n",
       "      <td>3.0</td>\n",
       "      <td>0.540582</td>\n",
       "    </tr>\n",
       "    <tr>\n",
       "      <th>8</th>\n",
       "      <td>41.0</td>\n",
       "      <td>Laki-laki</td>\n",
       "      <td>Freelance</td>\n",
       "      <td>Palu</td>\n",
       "      <td>9.846426e+06</td>\n",
       "      <td>1.0</td>\n",
       "      <td>0.0</td>\n",
       "      <td>55.049547</td>\n",
       "      <td>157.192078</td>\n",
       "      <td>Pantone</td>\n",
       "      <td>0.0</td>\n",
       "      <td>SMA</td>\n",
       "      <td>6.0</td>\n",
       "      <td>0.367960</td>\n",
       "    </tr>\n",
       "    <tr>\n",
       "      <th>9</th>\n",
       "      <td>46.0</td>\n",
       "      <td>Perempuan</td>\n",
       "      <td>Freelance</td>\n",
       "      <td>Palembang</td>\n",
       "      <td>9.257426e+06</td>\n",
       "      <td>1.0</td>\n",
       "      <td>0.0</td>\n",
       "      <td>52.764656</td>\n",
       "      <td>174.397170</td>\n",
       "      <td>Shoulder &amp; Head</td>\n",
       "      <td>0.0</td>\n",
       "      <td>S1</td>\n",
       "      <td>4.0</td>\n",
       "      <td>0.403653</td>\n",
       "    </tr>\n",
       "  </tbody>\n",
       "</table>\n",
       "</div>"
      ],
      "text/plain": [
       "   umur jenis_kelamin       pekerjaan      provinsi          gaji  is_menikah  \\\n",
       "0  27.0     Perempuan             PNS      Bengkulu  7.957453e+06         1.0   \n",
       "1  53.0     Perempuan             PNS       Bandung  7.633003e+06         1.0   \n",
       "2  37.0     Perempuan  Pegawai swasta       Bandung  6.637625e+06         1.0   \n",
       "3  36.0     Perempuan    Pengangguran          Palu  3.624871e+06         1.0   \n",
       "4  38.0     Laki-laki       Freelance  Palangkaraya  6.031808e+06         1.0   \n",
       "5  55.0     Perempuan             PNS  Palangkaraya  9.213032e+06         1.0   \n",
       "6  40.0     Perempuan       Freelance        Serang  1.068256e+07         1.0   \n",
       "7  47.0     Laki-laki  Pegawai swasta    Banda Aceh  4.508321e+06         1.0   \n",
       "8  41.0     Laki-laki       Freelance          Palu  9.846426e+06         1.0   \n",
       "9  46.0     Perempuan       Freelance     Palembang  9.257426e+06         1.0   \n",
       "\n",
       "   is_keturunan      berat      tinggi            sampo  is_merokok  \\\n",
       "0           0.0  54.315053  170.428542          Pantone         1.0   \n",
       "1           0.0  72.873404  165.530097          Pantone         0.0   \n",
       "2           0.0  46.321533  154.599388         Moonsilk         0.0   \n",
       "3           0.0  51.539781  167.340481         Deadbuoy         1.0   \n",
       "4           0.0  60.726909  165.514773          Merpati         1.0   \n",
       "5           1.0  54.287045  179.235145          Pantone         0.0   \n",
       "6           0.0  54.824881  177.431122  Shoulder & Head         0.0   \n",
       "7           0.0  74.795152  170.540938  Shoulder & Head         1.0   \n",
       "8           0.0  55.049547  157.192078          Pantone         0.0   \n",
       "9           0.0  52.764656  174.397170  Shoulder & Head         0.0   \n",
       "\n",
       "  pendidikan  stress  botak_prob  \n",
       "0         S1     5.0    0.605974  \n",
       "1         S1     7.0    0.532860  \n",
       "2         S1     4.0    0.418442  \n",
       "3         SD     9.0    0.804050  \n",
       "4         S2     1.0    0.368371  \n",
       "5         S1     1.0    0.732562  \n",
       "6         S1     2.0    0.192604  \n",
       "7         S2     3.0    0.540582  \n",
       "8        SMA     6.0    0.367960  \n",
       "9         S1     4.0    0.403653  "
      ]
     },
     "execution_count": 5,
     "metadata": {},
     "output_type": "execute_result"
    }
   ],
   "source": [
    "df.head(10)"
   ]
  },
  {
   "cell_type": "code",
   "execution_count": 6,
   "id": "d058e952",
   "metadata": {},
   "outputs": [
    {
     "name": "stdout",
     "output_type": "stream",
     "text": [
      "<class 'pandas.core.frame.DataFrame'>\n",
      "RangeIndex: 7917 entries, 0 to 7916\n",
      "Data columns (total 14 columns):\n",
      " #   Column         Non-Null Count  Dtype  \n",
      "---  ------         --------------  -----  \n",
      " 0   umur           7832 non-null   float64\n",
      " 1   jenis_kelamin  7840 non-null   object \n",
      " 2   pekerjaan      7760 non-null   object \n",
      " 3   provinsi       7831 non-null   object \n",
      " 4   gaji           7843 non-null   float64\n",
      " 5   is_menikah     7845 non-null   float64\n",
      " 6   is_keturunan   7828 non-null   float64\n",
      " 7   berat          7861 non-null   float64\n",
      " 8   tinggi         7843 non-null   float64\n",
      " 9   sampo          7858 non-null   object \n",
      " 10  is_merokok     7847 non-null   float64\n",
      " 11  pendidikan     7847 non-null   object \n",
      " 12  stress         7853 non-null   float64\n",
      " 13  botak_prob     7838 non-null   float64\n",
      "dtypes: float64(9), object(5)\n",
      "memory usage: 866.0+ KB\n"
     ]
    }
   ],
   "source": [
    "df.info()"
   ]
  },
  {
   "cell_type": "code",
   "execution_count": 7,
   "id": "2d5bc797",
   "metadata": {},
   "outputs": [
    {
     "data": {
      "text/html": [
       "<div>\n",
       "<style scoped>\n",
       "    .dataframe tbody tr th:only-of-type {\n",
       "        vertical-align: middle;\n",
       "    }\n",
       "\n",
       "    .dataframe tbody tr th {\n",
       "        vertical-align: top;\n",
       "    }\n",
       "\n",
       "    .dataframe thead th {\n",
       "        text-align: right;\n",
       "    }\n",
       "</style>\n",
       "<table border=\"1\" class=\"dataframe\">\n",
       "  <thead>\n",
       "    <tr style=\"text-align: right;\">\n",
       "      <th></th>\n",
       "      <th>umur</th>\n",
       "      <th>gaji</th>\n",
       "      <th>is_menikah</th>\n",
       "      <th>is_keturunan</th>\n",
       "      <th>berat</th>\n",
       "      <th>tinggi</th>\n",
       "      <th>is_merokok</th>\n",
       "      <th>stress</th>\n",
       "      <th>botak_prob</th>\n",
       "    </tr>\n",
       "  </thead>\n",
       "  <tbody>\n",
       "    <tr>\n",
       "      <th>count</th>\n",
       "      <td>7832.000000</td>\n",
       "      <td>7.843000e+03</td>\n",
       "      <td>7845.000000</td>\n",
       "      <td>7828.000000</td>\n",
       "      <td>7861.000000</td>\n",
       "      <td>7843.000000</td>\n",
       "      <td>7847.000000</td>\n",
       "      <td>7853.000000</td>\n",
       "      <td>7838.000000</td>\n",
       "    </tr>\n",
       "    <tr>\n",
       "      <th>mean</th>\n",
       "      <td>39.492722</td>\n",
       "      <td>8.853770e+06</td>\n",
       "      <td>0.979095</td>\n",
       "      <td>0.204650</td>\n",
       "      <td>55.957306</td>\n",
       "      <td>167.252704</td>\n",
       "      <td>0.497133</td>\n",
       "      <td>5.456259</td>\n",
       "      <td>0.573851</td>\n",
       "    </tr>\n",
       "    <tr>\n",
       "      <th>std</th>\n",
       "      <td>9.882786</td>\n",
       "      <td>4.499844e+06</td>\n",
       "      <td>0.143076</td>\n",
       "      <td>0.403471</td>\n",
       "      <td>9.594065</td>\n",
       "      <td>10.933646</td>\n",
       "      <td>0.500024</td>\n",
       "      <td>2.860623</td>\n",
       "      <td>0.173386</td>\n",
       "    </tr>\n",
       "    <tr>\n",
       "      <th>min</th>\n",
       "      <td>2.000000</td>\n",
       "      <td>1.500000e+06</td>\n",
       "      <td>0.000000</td>\n",
       "      <td>0.000000</td>\n",
       "      <td>40.000000</td>\n",
       "      <td>125.491784</td>\n",
       "      <td>0.000000</td>\n",
       "      <td>1.000000</td>\n",
       "      <td>0.064633</td>\n",
       "    </tr>\n",
       "    <tr>\n",
       "      <th>25%</th>\n",
       "      <td>33.000000</td>\n",
       "      <td>5.735468e+06</td>\n",
       "      <td>1.000000</td>\n",
       "      <td>0.000000</td>\n",
       "      <td>49.312715</td>\n",
       "      <td>159.758874</td>\n",
       "      <td>0.000000</td>\n",
       "      <td>3.000000</td>\n",
       "      <td>0.452360</td>\n",
       "    </tr>\n",
       "    <tr>\n",
       "      <th>50%</th>\n",
       "      <td>39.000000</td>\n",
       "      <td>7.850662e+06</td>\n",
       "      <td>1.000000</td>\n",
       "      <td>0.000000</td>\n",
       "      <td>53.839669</td>\n",
       "      <td>167.155287</td>\n",
       "      <td>0.000000</td>\n",
       "      <td>5.000000</td>\n",
       "      <td>0.567954</td>\n",
       "    </tr>\n",
       "    <tr>\n",
       "      <th>75%</th>\n",
       "      <td>46.000000</td>\n",
       "      <td>1.083589e+07</td>\n",
       "      <td>1.000000</td>\n",
       "      <td>0.000000</td>\n",
       "      <td>60.259654</td>\n",
       "      <td>174.439620</td>\n",
       "      <td>1.000000</td>\n",
       "      <td>8.000000</td>\n",
       "      <td>0.686782</td>\n",
       "    </tr>\n",
       "    <tr>\n",
       "      <th>max</th>\n",
       "      <td>77.000000</td>\n",
       "      <td>5.000000e+07</td>\n",
       "      <td>1.000000</td>\n",
       "      <td>1.000000</td>\n",
       "      <td>150.000000</td>\n",
       "      <td>226.454577</td>\n",
       "      <td>1.000000</td>\n",
       "      <td>10.000000</td>\n",
       "      <td>1.000000</td>\n",
       "    </tr>\n",
       "  </tbody>\n",
       "</table>\n",
       "</div>"
      ],
      "text/plain": [
       "              umur          gaji   is_menikah  is_keturunan        berat  \\\n",
       "count  7832.000000  7.843000e+03  7845.000000   7828.000000  7861.000000   \n",
       "mean     39.492722  8.853770e+06     0.979095      0.204650    55.957306   \n",
       "std       9.882786  4.499844e+06     0.143076      0.403471     9.594065   \n",
       "min       2.000000  1.500000e+06     0.000000      0.000000    40.000000   \n",
       "25%      33.000000  5.735468e+06     1.000000      0.000000    49.312715   \n",
       "50%      39.000000  7.850662e+06     1.000000      0.000000    53.839669   \n",
       "75%      46.000000  1.083589e+07     1.000000      0.000000    60.259654   \n",
       "max      77.000000  5.000000e+07     1.000000      1.000000   150.000000   \n",
       "\n",
       "            tinggi   is_merokok       stress   botak_prob  \n",
       "count  7843.000000  7847.000000  7853.000000  7838.000000  \n",
       "mean    167.252704     0.497133     5.456259     0.573851  \n",
       "std      10.933646     0.500024     2.860623     0.173386  \n",
       "min     125.491784     0.000000     1.000000     0.064633  \n",
       "25%     159.758874     0.000000     3.000000     0.452360  \n",
       "50%     167.155287     0.000000     5.000000     0.567954  \n",
       "75%     174.439620     1.000000     8.000000     0.686782  \n",
       "max     226.454577     1.000000    10.000000     1.000000  "
      ]
     },
     "execution_count": 7,
     "metadata": {},
     "output_type": "execute_result"
    }
   ],
   "source": [
    "df.describe()"
   ]
  },
  {
   "cell_type": "code",
   "execution_count": 10,
   "id": "8b25934c",
   "metadata": {},
   "outputs": [
    {
     "data": {
      "text/html": [
       "<div>\n",
       "<style scoped>\n",
       "    .dataframe tbody tr th:only-of-type {\n",
       "        vertical-align: middle;\n",
       "    }\n",
       "\n",
       "    .dataframe tbody tr th {\n",
       "        vertical-align: top;\n",
       "    }\n",
       "\n",
       "    .dataframe thead th {\n",
       "        text-align: right;\n",
       "    }\n",
       "</style>\n",
       "<table border=\"1\" class=\"dataframe\">\n",
       "  <thead>\n",
       "    <tr style=\"text-align: right;\">\n",
       "      <th></th>\n",
       "      <th>jenis_kelamin</th>\n",
       "      <th>pekerjaan</th>\n",
       "      <th>provinsi</th>\n",
       "      <th>sampo</th>\n",
       "      <th>pendidikan</th>\n",
       "    </tr>\n",
       "  </thead>\n",
       "  <tbody>\n",
       "    <tr>\n",
       "      <th>count</th>\n",
       "      <td>7840</td>\n",
       "      <td>7760</td>\n",
       "      <td>7831</td>\n",
       "      <td>7858</td>\n",
       "      <td>7847</td>\n",
       "    </tr>\n",
       "    <tr>\n",
       "      <th>unique</th>\n",
       "      <td>2</td>\n",
       "      <td>4</td>\n",
       "      <td>34</td>\n",
       "      <td>5</td>\n",
       "      <td>6</td>\n",
       "    </tr>\n",
       "    <tr>\n",
       "      <th>top</th>\n",
       "      <td>Laki-laki</td>\n",
       "      <td>Pegawai swasta</td>\n",
       "      <td>Kupang</td>\n",
       "      <td>Deadbuoy</td>\n",
       "      <td>S1</td>\n",
       "    </tr>\n",
       "    <tr>\n",
       "      <th>freq</th>\n",
       "      <td>5367</td>\n",
       "      <td>3160</td>\n",
       "      <td>261</td>\n",
       "      <td>1618</td>\n",
       "      <td>4309</td>\n",
       "    </tr>\n",
       "  </tbody>\n",
       "</table>\n",
       "</div>"
      ],
      "text/plain": [
       "       jenis_kelamin       pekerjaan provinsi     sampo pendidikan\n",
       "count           7840            7760     7831      7858       7847\n",
       "unique             2               4       34         5          6\n",
       "top        Laki-laki  Pegawai swasta   Kupang  Deadbuoy         S1\n",
       "freq            5367            3160      261      1618       4309"
      ]
     },
     "execution_count": 10,
     "metadata": {},
     "output_type": "execute_result"
    }
   ],
   "source": [
    "df.describe(include='O')"
   ]
  },
  {
   "cell_type": "code",
   "execution_count": 12,
   "id": "21e8d894",
   "metadata": {},
   "outputs": [],
   "source": [
    "kuanti = df.drop(['jenis_kelamin','pekerjaan','provinsi','sampo','pendidikan','botak_prob'], axis=1)\n",
    "botak = df['botak_prob']"
   ]
  },
  {
   "cell_type": "code",
   "execution_count": 32,
   "id": "bd896092",
   "metadata": {},
   "outputs": [
    {
     "data": {
      "image/png": "[encoded data removed]",
      "text/plain": [
       "<Figure size 360x216 with 1 Axes>"
      ]
     },
     "metadata": {
      "needs_background": "light"
     },
     "output_type": "display_data"
    },
    {
     "data": {
      "image/png": "[encoded data removed]",
      "text/plain": [
       "<Figure size 360x216 with 1 Axes>"
      ]
     },
     "metadata": {
      "needs_background": "light"
     },
     "output_type": "display_data"
    },
    {
     "data": {
      "image/png": "[encoded data removed]",
      "text/plain": [
       "<Figure size 360x216 with 1 Axes>"
      ]
     },
     "metadata": {
      "needs_background": "light"
     },
     "output_type": "display_data"
    },
    {
     "data": {
      "image/png": "[encoded data removed]",
      "text/plain": [
       "<Figure size 360x216 with 1 Axes>"
      ]
     },
     "metadata": {
      "needs_background": "light"
     },
     "output_type": "display_data"
    },
    {
     "data": {
      "image/png": "[encoded data removed]",
      "text/plain": [
       "<Figure size 360x216 with 1 Axes>"
      ]
     },
     "metadata": {
      "needs_background": "light"
     },
     "output_type": "display_data"
    },
    {
     "data": {
      "image/png": "[encoded data removed]",
      "text/plain": [
       "<Figure size 360x216 with 1 Axes>"
      ]
     },
     "metadata": {
      "needs_background": "light"
     },
     "output_type": "display_data"
    },
    {
     "data": {
      "image/png": "[encoded data removed]",
      "text/plain": [
       "<Figure size 360x216 with 1 Axes>"
      ]
     },
     "metadata": {
      "needs_background": "light"
     },
     "output_type": "display_data"
    },
    {
     "data": {
      "image/png": "[encoded data removed]",
      "text/plain": [
       "<Figure size 360x216 with 1 Axes>"
      ]
     },
     "metadata": {
      "needs_background": "light"
     },
     "output_type": "display_data"
    }
   ],
   "source": [
    "for (columnName, columnData) in kuanti.iteritems():\n",
    "    plt.figure(figsize=(5,3))\n",
    "    plt.plot(columnData,botak,'o')\n",
    "    plt.title(\"botak\")\n",
    "    plt.ylabel(columnName)"
   ]
  },
  {
   "cell_type": "code",
   "execution_count": null,
   "id": "89a26eb1",
   "metadata": {},
   "outputs": [],
   "source": [
    "from sklearn.preprocessing import LabelEncoder\n",
    "encoder = LabelEncoder()\n"
   ]
  }
 ],
 "metadata": {
  "kernelspec": {
   "display_name": "Python 3 (ipykernel)",
   "language": "python",
   "name": "python3"
  },
  "language_info": {
   "codemirror_mode": {
    "name": "ipython",
    "version": 3
   },
   "file_extension": ".py",
   "mimetype": "text/x-python",
   "name": "python",
   "nbconvert_exporter": "python",
   "pygments_lexer": "ipython3",
   "version": "3.9.12"
  }
 },
 "nbformat": 4,
 "nbformat_minor": 5
}
